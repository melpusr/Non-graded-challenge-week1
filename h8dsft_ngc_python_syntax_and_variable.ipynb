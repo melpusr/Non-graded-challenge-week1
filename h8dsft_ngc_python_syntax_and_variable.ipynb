{
 "cells": [
  {
   "cell_type": "code",
   "execution_count": 6,
   "metadata": {},
   "outputs": [
    {
     "name": "stdout",
     "output_type": "stream",
     "text": [
      "Number of unique customer ID:  12\n"
     ]
    }
   ],
   "source": [
    "#task 1\n",
    "\n",
    "customer_id = ['B818', 'A461', 'A092', 'A082', 'B341', 'A005', 'A092', 'A461',\n",
    "               'B219', 'B904', 'A901', 'A083', 'B904', 'A092', 'B341', 'B821',\n",
    "               'B341', 'B821', 'B904', 'B818', 'A901', 'A083', 'B818', 'A082',\n",
    "               'B219', 'B219', 'A083', 'A901', 'A082', 'B341', 'B341', 'A083',\n",
    "               'A082', 'B219', 'B439', 'A461', 'A005', 'A901', 'B341', 'A082',\n",
    "               'A083', 'A461', 'A083', 'A901', 'A461', 'A083', 'A082', 'A083',\n",
    "               'B341', 'A901', 'A082', 'A461', 'B219', 'A083', 'B818', 'B821',\n",
    "               'A092', 'B341', 'A461', 'A092', 'A083', 'B821', 'A092']\n",
    "\n",
    "UniqueCustomers = set(customer_id)\n",
    "UniqueCustomers = len(UniqueCustomers)\n",
    "\n",
    "print(\"Number of unique customer ID: \", UniqueCustomers)"
   ]
  },
  {
   "cell_type": "code",
   "execution_count": 9,
   "metadata": {},
   "outputs": [
    {
     "name": "stdout",
     "output_type": "stream",
     "text": [
      "16\n",
      "[36, 49, 64, 81]\n",
      "100\n"
     ]
    }
   ],
   "source": [
    "#task 2\n",
    "\n",
    "data = [1, 4, 9, 16, 25, 36, 49, 64, 81, 100]\n",
    "    #   0  1  2   3   4   5   6   7   8   9\n",
    "    #   0 -9 -8  -7  -6  -5  -4  -3  -2  -1\n",
    "\n",
    "print(data[3])\n",
    "\n",
    "print(data[5:9])\n",
    "\n",
    "print(data[-1]) #reverse"
   ]
  },
  {
   "cell_type": "code",
   "execution_count": 17,
   "metadata": {},
   "outputs": [
    {
     "name": "stdout",
     "output_type": "stream",
     "text": [
      "['Nanggroe Aceh Darussalam', 'Sumatera Selatan', 'Kalimantan Barat', 'Jawa Timur', 'Sulawesi Selatan', 'Maluku']\n",
      "{'Nanggroe Aceh Darussalam': 'Aceh', 'Sumatera Selatan': 'Palembang', 'Kalimantan Barat': 'Pontianak', 'Jawa Timur': ['Surabaya'], 'Sulawesi Selatan': 'Makassar', 'Maluku': 'Ambon'}\n"
     ]
    }
   ],
   "source": [
    "#task 3\n",
    "\n",
    "provinsi= {'Nanggroe Aceh Darussalam': 'Aceh',\n",
    "            'Sumatera Selatan': 'Palembang',\n",
    "            'Kalimantan Barat': 'Pontianak',\n",
    "            'Jawa Timur': 'Madiun',\n",
    "            'Sulawesi Selatan': 'Makassar',\n",
    "            'Maluku': 'Ambon'}\n",
    "\n",
    "ListOfKeys = list(provinsi)\n",
    "print(ListOfKeys)\n",
    "\n",
    "provinsi['Jawa Timur']= ['Surabaya']\n",
    "print(provinsi)"
   ]
  }
 ],
 "metadata": {
  "kernelspec": {
   "display_name": "fox",
   "language": "python",
   "name": "python3"
  },
  "language_info": {
   "codemirror_mode": {
    "name": "ipython",
    "version": 3
   },
   "file_extension": ".py",
   "mimetype": "text/x-python",
   "name": "python",
   "nbconvert_exporter": "python",
   "pygments_lexer": "ipython3",
   "version": "3.11.8"
  }
 },
 "nbformat": 4,
 "nbformat_minor": 2
}
