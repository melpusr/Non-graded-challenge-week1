{
 "cells": [
  {
   "cell_type": "code",
   "execution_count": 2,
   "metadata": {},
   "outputs": [
    {
     "name": "stdout",
     "output_type": "stream",
     "text": [
      "Jumlah kata di kalimat tersebut:  2\n",
      "Jumlah kata di kalimat tersebut:  8\n"
     ]
    }
   ],
   "source": [
    "#task 1\n",
    "#membuat fungsi untuk menghitung banyaknya kata dalam sebuah kalimat\n",
    "\n",
    "def number_of_word(sentence):\n",
    "    # split kalimat menjadi kata-kata\n",
    "    words = sentence.split()\n",
    "    \n",
    "    # menghitung banyaknya kata di dalam 'words'\n",
    "    number_of_words = len(words)\n",
    "    \n",
    "    # mengembalikan fungsi banyaknya kata di dalam 'words'\n",
    "    return number_of_words\n",
    "\n",
    "# menguji fungsi yang sudah dibuat\n",
    "sentence = \"hello world!\"\n",
    "print(\"Jumlah kata di kalimat tersebut: \", number_of_word(sentence))\n",
    "\n",
    "sentence = \"once upon a time in a faraway land\"\n",
    "print(\"Jumlah kata di kalimat tersebut: \", number_of_word(sentence))\n"
   ]
  },
  {
   "cell_type": "code",
   "execution_count": 4,
   "metadata": {},
   "outputs": [
    {
     "name": "stdout",
     "output_type": "stream",
     "text": [
      "Kelipatan dari 5 dalam rentang 1 hingga 20 adalah: [5, 10, 15, 20]\n",
      "Kelipatan dari 10 dalam rentang 1 hingga 50 adalah: [10, 20, 30, 40, 50]\n"
     ]
    }
   ],
   "source": [
    "#task 2\n",
    "#membuat fungsi untuk mendapatkan list angka dari range angka\n",
    "\n",
    "def find_multiples(start_range, end_range, multiple):\n",
    "    # membuat list kosong yang nantinya akan diisi dengan range kelipatan\n",
    "    daftar_kelipatan = []\n",
    "\n",
    "    # rentang dari start_range sampai end_range (awal dan akhir)\n",
    "    for num in range(start_range, end_range + 1):\n",
    "        if num % multiple == 0:\n",
    "            # jika iya , masuk ke dalam list daftar kelipatan\n",
    "            daftar_kelipatan.append(num)\n",
    "\n",
    "    # mengembalikan list kelipatan\n",
    "    return daftar_kelipatan\n",
    "\n",
    "# Uji fungsi\n",
    "start_range = 1\n",
    "end_range = 20\n",
    "multiple = 5\n",
    "print(\"Kelipatan dari\", multiple, \"dalam rentang\", start_range, \"hingga\", end_range, \"adalah:\", find_multiples(start_range, end_range, multiple))\n",
    "\n",
    "start_range = 1\n",
    "end_range = 50\n",
    "multiple = 10\n",
    "print(\"Kelipatan dari\", multiple, \"dalam rentang\", start_range, \"hingga\", end_range, \"adalah:\", find_multiples(start_range, end_range, multiple))\n",
    "\n"
   ]
  },
  {
   "cell_type": "code",
   "execution_count": 6,
   "metadata": {},
   "outputs": [
    {
     "name": "stdout",
     "output_type": "stream",
     "text": [
      "Convert to GPA: {'Adam': 2.5, 'Faiz': 4.0}\n",
      "Convert to Letter Grade: {'Albert': 'A', 'Dwi': 'B', 'Syahdan': 'D', 'Veronica': 'B'}\n"
     ]
    }
   ],
   "source": [
    "#task 3\n",
    "#membuat fungsi yang akan mengkonversi nilai murid ke dalam GPA\n",
    "#menggunakan **kwargs\n",
    "\n",
    "def Grade_Converter(convert_to, **kwargs):\n",
    "    # Dictionary untuk menyimpan hasil konversi\n",
    "    result = {}\n",
    "\n",
    "    # Fungsi untuk mengkonversi nilai menjadi letter grade\n",
    "    def convert_to_letter_grade(score):\n",
    "        if score >= 85:\n",
    "            return 'A'\n",
    "        elif score >= 70:\n",
    "            return 'B'\n",
    "        elif score >= 60:\n",
    "            return 'C'\n",
    "        elif score >= 50:\n",
    "            return 'D'\n",
    "        elif score >= 40:\n",
    "            return 'E'\n",
    "        else:\n",
    "            return 'F'\n",
    "\n",
    "    # Fungsi untuk mengonversi huruf grade menjadi GPA\n",
    "    def convert_to_gpa(letter_grade):\n",
    "        if letter_grade == 'A':\n",
    "            return 4.0\n",
    "        elif letter_grade == 'B':\n",
    "            return 3.0\n",
    "        elif letter_grade == 'C':\n",
    "            return 2.5\n",
    "        elif letter_grade == 'D':\n",
    "            return 2.0\n",
    "        elif letter_grade == 'E':\n",
    "            return 1.5\n",
    "        else:\n",
    "            return 1.0\n",
    "\n",
    "    # Melakukan konversi berdasarkan input convert_to\n",
    "    for student, score in kwargs.items():\n",
    "        if convert_to == 'letter_grade':\n",
    "            result[student] = convert_to_letter_grade(score)\n",
    "        elif convert_to == 'gpa':\n",
    "            result[student] = convert_to_gpa(convert_to_letter_grade(score))\n",
    "\n",
    "    return result\n",
    "\n",
    "# Contoh \n",
    "\n",
    "grades = {'Adam': 62, 'Faiz': 91}\n",
    "print(\"Convert to GPA:\", Grade_Converter('gpa', **grades))\n",
    "\n",
    "grades = {'Albert': 90, 'Dwi': 82, 'Syahdan': 58, 'Veronica': 84}\n",
    "print(\"Convert to Letter Grade:\", Grade_Converter('letter_grade', **grades))\n"
   ]
  },
  {
   "cell_type": "code",
   "execution_count": 11,
   "metadata": {},
   "outputs": [
    {
     "name": "stdout",
     "output_type": "stream",
     "text": [
      "0\n",
      "3\n"
     ]
    }
   ],
   "source": [
    "def fibonacci(n):\n",
    "    # menggunakan dua angka pertama dalam deret Fibonacci\n",
    "    fib = [0, 1]\n",
    "\n",
    "    # dari 2 hingga n \n",
    "    for varX in range(2, n + 1):\n",
    "        # hitung deret\n",
    "        next_fib = fib[varX - 1] + fib[varX - 2]\n",
    "        fib.append(next_fib)\n",
    "\n",
    "    # Kembalikan nilai ke-n dari deret Fibonacci\n",
    "    return fib[n]\n",
    "\n",
    "# Uji fungsi\n",
    "n = 0\n",
    "print(fibonacci(n))\n",
    "\n",
    "n = 4\n",
    "print(fibonacci(n))\n"
   ]
  }
 ],
 "metadata": {
  "kernelspec": {
   "display_name": "fox",
   "language": "python",
   "name": "python3"
  },
  "language_info": {
   "codemirror_mode": {
    "name": "ipython",
    "version": 3
   },
   "file_extension": ".py",
   "mimetype": "text/x-python",
   "name": "python",
   "nbconvert_exporter": "python",
   "pygments_lexer": "ipython3",
   "version": "3.11.8"
  }
 },
 "nbformat": 4,
 "nbformat_minor": 2
}
