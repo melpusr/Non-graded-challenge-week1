{
 "cells": [
  {
   "cell_type": "markdown",
   "metadata": {},
   "source": [
    "NGC 3 : membuat katalog library dengan mengaplikasikan OOP, dimana user dapat menginput buku ke dalam katalog, mencari buku berdasarkan judul atau penulis, dan menghapus buku dari katalog."
   ]
  },
  {
   "cell_type": "code",
   "execution_count": 5,
   "metadata": {},
   "outputs": [
    {
     "name": "stdout",
     "output_type": "stream",
     "text": [
      "Book 'Blood of Olympus' telah ditambah ke katalog.\n",
      "Book 'Wind Witch' telah ditambah ke katalog.\n",
      "\n",
      "Mencari buku: \n",
      "Judul: Blood of Olympus, Penulis: Rick Rordan\n",
      "Judul: Wind Witch, Penulis: Susan Dennard\n",
      "\n",
      "Buku yang dihapus: \n",
      "'Blood of Olympus' telah dihapus dari katalog.\n",
      "Isi katalog saya: \n",
      "Katalog saya: \n",
      "Judul: Wind Witch, Penulis: Susan Dennard\n"
     ]
    }
   ],
   "source": [
    "class LibraryCatalog:\n",
    "    def __init__(self):\n",
    "        self.catalog = []\n",
    "\n",
    "    #menambah buku\n",
    "    def add_book(self, book):\n",
    "        self.catalog.append(book)\n",
    "        print(f\"Book '{book.title}' telah ditambah ke katalog.\")\n",
    "\n",
    "    #mencari buku berdasarkan judul\n",
    "    def search_by_title(self, title):\n",
    "        found_books = [book for book in self.catalog if book.title.lower() == title.lower()]\n",
    "        if found_books:\n",
    "            for book in found_books:\n",
    "                print(f\"Judul: {book.title}, Penulis: {book.author}\")\n",
    "\n",
    "    #mencari buku berdasarkan penulis\n",
    "    def search_by_author(self, author):\n",
    "        found_books = [book for book in self.catalog if book.author.lower() == author.lower()]\n",
    "        if found_books:\n",
    "            for book in found_books:\n",
    "                print(f\"Judul: {book.title}, Penulis: {book.author}\")\n",
    "\n",
    "    #menghapus buku dari katalog\n",
    "    def remove_book(self):\n",
    "        for i, book in enumerate(self.catalog):\n",
    "            del self.catalog[i]\n",
    "            print(f\"'{book.title}' telah dihapus dari katalog.\")\n",
    "            return\n",
    "\n",
    "    #menunjukkan isi katalog\n",
    "    def display_catalog(self):\n",
    "        if self.catalog:\n",
    "            print(\"Katalog saya: \")\n",
    "            for book in self.catalog:\n",
    "                print(f\"Judul: {book.title}, Penulis: {book.author}\")\n",
    "        else:\n",
    "            print(\"Anda belum memilih buku.\")\n",
    "\n",
    "\n",
    "class Book:\n",
    "    def __init__(self, title, author):\n",
    "        self.title = title\n",
    "        self.author = author\n",
    "\n",
    "def main():\n",
    "# test library\n",
    "    if __name__ == \"__main__\":\n",
    "        library = LibraryCatalog()\n",
    "\n",
    "        # menambahkan buku\n",
    "        book1 = Book(\"Blood of Olympus\", \"Rick Rordan\")\n",
    "        book2 = Book(\"Wind Witch\", \"Susan Dennard\")\n",
    "        library.add_book(book1)\n",
    "        library.add_book(book2)\n",
    "\n",
    "        #mencari buku\n",
    "        print(\"\\nMencari buku: \")\n",
    "        library.search_by_title(\"Blood of Olympus\")\n",
    "        library.search_by_author(\"Susan Dennard\")\n",
    "\n",
    "        # menghapus buku\n",
    "        print(\"\\nBuku yang dihapus: \")\n",
    "        library.remove_book()\n",
    "\n",
    "        # memperlihatkan isi katalog\n",
    "        print(\"Isi katalog saya: \")\n",
    "        library.display_catalog()\n",
    "\n",
    "\n",
    "if __name__ == '__main__':\n",
    "    main()"
   ]
  }
 ],
 "metadata": {
  "kernelspec": {
   "display_name": "fox",
   "language": "python",
   "name": "python3"
  },
  "language_info": {
   "codemirror_mode": {
    "name": "ipython",
    "version": 3
   },
   "file_extension": ".py",
   "mimetype": "text/x-python",
   "name": "python",
   "nbconvert_exporter": "python",
   "pygments_lexer": "ipython3",
   "version": "3.11.8"
  }
 },
 "nbformat": 4,
 "nbformat_minor": 2
}
