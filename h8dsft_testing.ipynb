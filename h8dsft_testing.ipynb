{
 "cells": [
  {
   "cell_type": "markdown",
   "metadata": {},
   "source": [
    "NGC 4 :\n",
    "unit test NGC 3, library system yang telah dibuat."
   ]
  },
  {
   "cell_type": "code",
   "execution_count": null,
   "metadata": {},
   "outputs": [],
   "source": [
    "import unittest\n",
    "from h8dsft_oop import Book, LibraryCatalog \n"
   ]
  },
  {
   "cell_type": "code",
   "execution_count": null,
   "metadata": {},
   "outputs": [],
   "source": [
    "class TestLibraryCatalog(unittest.TestCase):\n",
    "    def setUp(self):\n",
    "        # untuk test\n",
    "        self.library = LibraryCatalog()\n",
    "        self.book1 = Book(\"Blood of Olympus\", \"Rick Riordan\")\n",
    "        self.book2 = Book(\"Wind Witch\", \"Susan Dennard\")\n",
    "\n",
    "    def test_add_book(self):\n",
    "        # testing tambah buku\n",
    "        self.library.add_book(self.book1)\n",
    "        self.assertEqual(len(self.library.catalog), 1)\n",
    "\n",
    "    def test_search_by_title(self):\n",
    "        # test cari buku berdasarkan judul\n",
    "        self.library.add_book(self.book1)\n",
    "        self.library.add_book(self.book2)\n",
    "        self.library.search_by_title(\"Blood of Olympus\")\n",
    "       \n",
    "\n",
    "    def test_search_by_author(self):\n",
    "        # test cari buku berdasarkan penulis\n",
    "        self.library.add_book(self.book1)\n",
    "        self.library.add_book(self.book2)\n",
    "        self.library.search_by_author(\"Rick Riordan\")\n",
    "        \n",
    "\n",
    "    def test_remove_book(self):\n",
    "        # test hapus buku dari katalog\n",
    "        self.library.add_book(self.book1)\n",
    "        self.library.remove_book(1)\n",
    "        self.assertEqual(len(self.library.catalog), 0)\n",
    "\n",
    "    def test_display_catalog(self):\n",
    "        # test menampilkan isi katalog\n",
    "        self.library.add_book(self.book1)\n",
    "        self.library.add_book(self.book2)\n",
    "       \n",
    "\n",
    "if __name__ == '__main__':\n",
    "    unittest.main(argv=[''], exit=False)\n"
   ]
  }
 ],
 "metadata": {
  "kernelspec": {
   "display_name": "fox",
   "language": "python",
   "name": "python3"
  },
  "language_info": {
   "codemirror_mode": {
    "name": "ipython",
    "version": 3
   },
   "file_extension": ".py",
   "mimetype": "text/x-python",
   "name": "python",
   "nbconvert_exporter": "python",
   "pygments_lexer": "ipython3",
   "version": "3.11.8"
  }
 },
 "nbformat": 4,
 "nbformat_minor": 2
}
